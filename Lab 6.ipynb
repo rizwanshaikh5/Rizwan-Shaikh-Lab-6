{
 "cells": [
  {
   "cell_type": "code",
   "execution_count": 1,
   "metadata": {},
   "outputs": [
    {
     "name": "stdout",
     "output_type": "stream",
     "text": [
      "Saturday , December 07 2019\n",
      "12:21 AM Pakistan Standard Time on Dec/07/2019\n",
      "I will meet you on Sat December 07 at 12:21 AM\n"
     ]
    }
   ],
   "source": [
    "import time\n",
    "def strftime():\n",
    "    a = time.strftime('%A , %B %d %Y', time.localtime())\n",
    "    print(a)\n",
    "    b = time.strftime('%I:%M %p %Z on %b/%d/%Y', time.localtime())\n",
    "    print(b)\n",
    "    c = time.strftime('I will meet you on %a %B %d at %I:%M %p', time.localtime())\n",
    "    print(c)\n",
    "strftime()"
   ]
  },
  {
   "cell_type": "code",
   "execution_count": 2,
   "metadata": {},
   "outputs": [
    {
     "name": "stdout",
     "output_type": "stream",
     "text": [
      "Number of time day occurred : 2 times\n",
      "Index of word Sunny :  11\n",
      "It will be cloudy day today\n"
     ]
    }
   ],
   "source": [
    "def forcast():\n",
    "    a = 'It will be sunny day today'\n",
    "    print(\"Number of time day occurred :\",a.count('day'),'times')\n",
    "    print(\"Index of word Sunny : \", a.find('sunny'))\n",
    "    b = a.replace('sunny','cloudy')\n",
    "    print(b)\n",
    "forcast()"
   ]
  },
  {
   "cell_type": "code",
   "execution_count": 3,
   "metadata": {},
   "outputs": [
    {
     "name": "stdout",
     "output_type": "stream",
     "text": [
      "2,3,4,6,8,9,10,12,14,15,16,"
     ]
    }
   ],
   "source": [
    "def even(x):\n",
    "   for i in range (2,x+1):\n",
    "    if i%2==0:\n",
    "        print(i,end=(','))\n",
    "    elif i%3==0:\n",
    "        print(i,end=(','))\n",
    "even(17)\n"
   ]
  },
  {
   "cell_type": "code",
   "execution_count": 4,
   "metadata": {},
   "outputs": [
    {
     "name": "stdout",
     "output_type": "stream",
     "text": [
      "Rizwan Shaikh\n",
      "Student\n",
      "Rabia City\n",
      "Karachi\n",
      "75500\n"
     ]
    }
   ],
   "source": [
    "def mailaddress():\n",
    "    name  = 'Rizwan Shaikh'\n",
    "    designation = 'Student'\n",
    "    Address = 'Rabia City'\n",
    "    city = 'Karachi'\n",
    "    zipcode = '75500'\n",
    "    print(\"{0}\\n{1}\\n{2}\\n{3}\\n{4}\".format(name,designation,Address,city,zipcode))\n",
    "\n",
    "mailaddress()"
   ]
  },
  {
   "cell_type": "code",
   "execution_count": 5,
   "metadata": {},
   "outputs": [
    {
     "name": "stdout",
     "output_type": "stream",
     "text": [
      "Jan\n",
      "Nov\n"
     ]
    }
   ],
   "source": [
    "def month(x):\n",
    "    mon = ['','Jan','Feb','Mar','Apr','May','Jun','Jul','Aug','Sep','Oct','Nov','Dec']\n",
    "    print(mon[x])\n",
    "month(1)\n",
    "month(11)"
   ]
  },
  {
   "cell_type": "code",
   "execution_count": 6,
   "metadata": {},
   "outputs": [
    {
     "name": "stdout",
     "output_type": "stream",
     "text": [
      "How do you spell winner ?\n",
      "I know! I know!\n",
      "G O   U I T I A N S ! ! \n",
      "And that's how you spell winner!\n",
      "Go Uitians! !\n"
     ]
    }
   ],
   "source": [
    "def Cheer(x):\n",
    "    print(\"How do you spell winner ?\")\n",
    "    print(\"I know! I know!\")\n",
    "    for i in x:\n",
    "        print(i.capitalize(),end=(\" \"))\n",
    "    print(\"! \")\n",
    "    print(\"And that's how you spell winner!\")\n",
    "    print(x.title(),\"!\")\n",
    "Cheer('go uitians!')"
   ]
  },
  {
   "cell_type": "code",
   "execution_count": 7,
   "metadata": {},
   "outputs": [
    {
     "name": "stdout",
     "output_type": "stream",
     "text": [
      "Enter User Name :Rizwan Shaikh\n",
      "Enter the type of Burger : Zinger Burger\n",
      "Enter the Quantity of Burger : 2\n",
      "Enter the rate of Burger : 180\n",
      "Dec 07 2019\n",
      "User Name :           Rizwan Shaikh\n",
      "Type of Burger:       Zinger Burger\n",
      "Quantity of Burger:   2\n",
      "Cost :                360\n",
      "GST 13% :             61.2\n",
      "Total :            Rs 421.2\n"
     ]
    }
   ],
   "source": [
    "import time\n",
    "def POS():\n",
    "    User = input(\"Enter User Name :\")\n",
    "    x = input(\"Enter the type of Burger : \")\n",
    "    y = eval(input(\"Enter the Quantity of Burger : \"))\n",
    "    z = eval(input(\"Enter the rate of Burger : \"))\n",
    "    total = y * z\n",
    "    gst = (total/100)*17\n",
    "    time1= time.strftime('%b %d %Y', time.localtime())\n",
    "    print(time1)\n",
    "    print(\"User Name :          \",User)\n",
    "    print(\"Type of Burger:      \",x)\n",
    "    print(\"Quantity of Burger:  \" ,y)\n",
    "    print(\"Cost :               \",total)\n",
    "    print(\"GST 13% :            \",gst)\n",
    "    print(\"Total :            Rs\",total+gst)\n",
    "POS()"
   ]
  },
  {
   "cell_type": "code",
   "execution_count": 8,
   "metadata": {},
   "outputs": [
    {
     "name": "stdout",
     "output_type": "stream",
     "text": [
      "decimal    binary    octal   Hexadecimal\n",
      "d:    1   b:    1   o:    1   H:    1\n",
      "d:    2   b:   10   o:    2   H:    2\n",
      "d:    3   b:   11   o:    3   H:    3\n",
      "d:    4   b:  100   o:    4   H:    4\n",
      "d:    5   b:  101   o:    5   H:    5\n",
      "d:    6   b:  110   o:    6   H:    6\n",
      "d:    7   b:  111   o:    7   H:    7\n",
      "d:    8   b: 1000   o:   10   H:    8\n",
      "d:    9   b: 1001   o:   11   H:    9\n",
      "d:   10   b: 1010   o:   12   H:    A\n"
     ]
    }
   ],
   "source": [
    "def numbers(x,y):\n",
    "    print(\"decimal    binary    octal   Hexadecimal\")\n",
    "\n",
    "    for i in range(x,y+1):\n",
    "        binary = bin(i)\n",
    "        octal = oct(i)\n",
    "        Hex = hex(i)\n",
    "        print(\"d:{:5d}   b:{:5b}   o:{:5o}   H:{:5X}\".format(i,i,i,i))\n",
    "numbers(1,10)"
   ]
  },
  {
   "cell_type": "code",
   "execution_count": 9,
   "metadata": {},
   "outputs": [
    {
     "name": "stdout",
     "output_type": "stream",
     "text": [
      " \t\tBank Copy\t\t\t\t\t School Copy\t\t\t\t\t\tStudent Copy\n",
      "Student Name : Rizwan Shaikh\t\tStudent Name : Rizwan Shaikh\t\tStudent Name : Rizwan Shaikh\n",
      "Roll Number  : 434\t\t\t\tRoll Number  : 434\t\t\t\tRoll Number  : 434\n",
      "Semester     : 6\t\t\t\tSemester     : 6\t\t\t\tSemester     : 6\n",
      "Semester Fee : 12000\t\t\tSemester Fee : 12000\t\t\tSemester Fee : 12000\n",
      "Sports Fee   : 2500\t\t\t\tSports Fee   : 2500\t\t\t\tSports Fee   : 2500\n",
      "Misc Fee     : 0\t\t\t\tMisc Fee     : 0\t\t\t\tMisc Fee     : 0\n",
      "--------------- \t\t\t    ------------------- \t\t\t---------------------\n",
      "Total Fee     : 14500\t\t\tTotal Fee     : 14500\t\t\tTotal Fee    : 14500\n",
      "Due Date     : 12-12-19\t\t\tDue Date     : 12-12-19\t\t\tDue Date     : 12-12-19\n",
      "Teller Stamp : ____________\t\tTeller Stamp : ____________\t\tTeller Stamp : ____________\n",
      "\n",
      "\n",
      " \t\tBank Copy\t\t\t\t\t School Copy\t\t\t\t\t\tStudent Copy\n",
      "Student Name : Bilal Yousuf\t\tStudent Name : Bilal Yousuf\t\tStudent Name : Bilal Yousuf\n",
      "Roll Number  : 434\t\t\t\tRoll Number  : 434\t\t\t\tRoll Number  : 434\n",
      "Semester     : 6\t\t\t\tSemester     : 6\t\t\t\tSemester     : 6\n",
      "Semester Fee : 12000\t\t\tSemester Fee : 12000\t\t\tSemester Fee : 12000\n",
      "Sports Fee   : 2500\t\t\t\tSports Fee   : 2500\t\t\t\tSports Fee   : 2500\n",
      "Misc Fee     : 0\t\t\t\tMisc Fee     : 0\t\t\t\tMisc Fee     : 0\n",
      "--------------- \t\t\t    ------------------- \t\t\t---------------------\n",
      "Total Fee     : 14500\t\t\tTotal Fee     : 14500\t\t\tTotal Fee    : 14500\n",
      "Due Date     : 12-12-19\t\t\tDue Date     : 12-12-19\t\t\tDue Date     : 12-12-19\n",
      "Teller Stamp : ____________\t\tTeller Stamp : ____________\t\tTeller Stamp : ____________\n",
      "\n",
      "\n",
      " \t\tBank Copy\t\t\t\t\t School Copy\t\t\t\t\t\tStudent Copy\n",
      "Student Name : Huzaifa Anwar\t\tStudent Name : Huzaifa Anwar\t\tStudent Name : Huzaifa Anwar\n",
      "Roll Number  : 434\t\t\t\tRoll Number  : 434\t\t\t\tRoll Number  : 434\n",
      "Semester     : 6\t\t\t\tSemester     : 6\t\t\t\tSemester     : 6\n",
      "Semester Fee : 12000\t\t\tSemester Fee : 12000\t\t\tSemester Fee : 12000\n",
      "Sports Fee   : 2500\t\t\t\tSports Fee   : 2500\t\t\t\tSports Fee   : 2500\n",
      "Misc Fee     : 0\t\t\t\tMisc Fee     : 0\t\t\t\tMisc Fee     : 0\n",
      "--------------- \t\t\t    ------------------- \t\t\t---------------------\n",
      "Total Fee     : 14500\t\t\tTotal Fee     : 14500\t\t\tTotal Fee    : 14500\n",
      "Due Date     : 12-12-19\t\t\tDue Date     : 12-12-19\t\t\tDue Date     : 12-12-19\n",
      "Teller Stamp : ____________\t\tTeller Stamp : ____________\t\tTeller Stamp : ____________\n",
      "\n",
      "\n"
     ]
    }
   ],
   "source": [
    "def printv(x):\n",
    "    fees = {'Name': '', 'RollNo': '434', 'Semester': '6',\n",
    "            'SemesterFee': '12000', 'SportsFee': '2500', 'MiscFee': '0'}\n",
    "    fees['Name'] = x\n",
    "    Sum = int(fees.get('SemesterFee')) + int(fees.get('SportsFee')) + int(fees.get('MiscFee'))\n",
    "    print(\" \\t\\tBank Copy\\t\\t\\t\\t\\t School Copy\\t\\t\\t\\t\\t\\tStudent Copy\")\n",
    "    print(\"Student Name : {0}\\t\\tStudent Name : {0}\\t\\tStudent Name : {0}\".format(fees.get('Name')))\n",
    "    print(\"Roll Number  : {0}\\t\\t\\t\\tRoll Number  : {0}\\t\\t\\t\\tRoll Number  : {0}\".format(fees.get('RollNo')))\n",
    "    print(\"Semester     : {0}\\t\\t\\t\\tSemester     : {0}\\t\\t\\t\\tSemester     : {0}\".format(fees.get('Semester')))\n",
    "    print(\"Semester Fee : {0}\\t\\t\\tSemester Fee : {0}\\t\\t\\tSemester Fee : {0}\".format(fees.get('SemesterFee')))\n",
    "    print(\"Sports Fee   : {0}\\t\\t\\t\\tSports Fee   : {0}\\t\\t\\t\\tSports Fee   : {0}\".format(fees['SportsFee']))\n",
    "    print(\"Misc Fee     : {0}\\t\\t\\t\\tMisc Fee     : {0}\\t\\t\\t\\tMisc Fee     : {0}\".format(fees.get('MiscFee')))\n",
    "    print(\"--------------- \\t\\t\\t    ------------------- \\t\\t\\t---------------------\")\n",
    "    print(\"Total Fee     : {0}\\t\\t\\tTotal Fee     : {0}\\t\\t\\tTotal Fee    : {0}\".format(Sum))\n",
    "    print(\"Due Date     : 12-12-19\\t\\t\\tDue Date     : 12-12-19\\t\\t\\tDue Date     : 12-12-19\")\n",
    "    print(\"Teller Stamp : ____________\\t\\tTeller Stamp : ____________\\t\\tTeller Stamp : ____________\")\n",
    "    print('\\n')\n",
    "printv('Rizwan Shaikh')\n",
    "printv('Bilal Yousuf')\n",
    "printv('Huzaifa Anwar')"
   ]
  },
  {
   "cell_type": "code",
   "execution_count": 10,
   "metadata": {
    "scrolled": true
   },
   "outputs": [
    {
     "name": "stdout",
     "output_type": "stream",
     "text": [
      "Ammount Of Petrol :500\n",
      "Ammount of High Speed Diesel :200\n",
      "Ammount of Low Speed Diesel :200\n",
      "Ammount of Kerosine Oil :300\n",
      "\t\tPSO\t\t\t\t\t\t\t\t\tShell\t\t\t\tAmmount in Litres\t\t\tPSO Cost\t\tShell Cost\t\tPrice Difference \n",
      "Premium Super     : 114.24\t\t\tAltron Premium: 114.24\t\t\t\t500\t\t\t\t\t57120.0\t\t\t57120.0\t\t\t\t0.0\n",
      "HighSpeed Diesel  : 127.41\t\t\tAction+Diesel : 127.41\t\t\t\t200\t\t\t\t\t25482.0\t\t\t25482.0\t\t\t\t0.0\n",
      "LightSpeed Diesel : 85.33\t\t\tLDO           : 85.33\t\t\t\t200\t\t\t\t\t17066.0\t\t\t17066.0\t\t\t\t0.0\n",
      "LightSpeed Diesel : 97.18\t\t\tLDO           : 97.18\t\t\t\t300\t\t\t\t\t29154.000000000004\t\t\t29154.000000000004\t\t\t\t0.0\n"
     ]
    }
   ],
   "source": [
    "def comparing():\n",
    "    PSOP , PSOHSD , PSOLSD , PSOKO = 114.24,127.41,85.33,97.18\n",
    "    SAP , SAD , SLDO , SSKO = 114.24,127.41,85.33,97.18\n",
    "    petrol = eval(input(\"Ammount Of Petrol :\"))\n",
    "    HDiesel = eval(input(\"Ammount of High Speed Diesel :\"))\n",
    "    LDiesel = eval(input(\"Ammount of Low Speed Diesel :\"))\n",
    "    Kerosine = eval(input(\"Ammount of Kerosine Oil :\"))\n",
    "    print(\"\\t\\tPSO\\t\\t\\t\\t\\t\\t\\t\\t\\tShell\\t\\t\\t\\tAmmount in Litres\\t\\t\\tPSO Cost\\t\\tShell Cost\\t\\tPrice Difference \")\n",
    "    print(\"Premium Super     : {0}\\t\\t\\tAltron Premium: {1}\\t\\t\\t\\t{2}\\t\\t\\t\\t\\t{3}\\t\\t\\t{4}\\t\\t\\t\\t{5}\".format(PSOP,SAP,petrol,PSOP*petrol,SAP*petrol,(PSOP-SAP)*petrol))\n",
    "    print(\"HighSpeed Diesel  : {0}\\t\\t\\tAction+Diesel : {1}\\t\\t\\t\\t{2}\\t\\t\\t\\t\\t{3}\\t\\t\\t{4}\\t\\t\\t\\t{5}\".format(PSOHSD, SAD,HDiesel, PSOHSD*HDiesel,SAD*HDiesel,(PSOHSD-SAD)*HDiesel))\n",
    "    print(\"LightSpeed Diesel : {0}\\t\\t\\tLDO           : {1}\\t\\t\\t\\t{2}\\t\\t\\t\\t\\t{3}\\t\\t\\t{4}\\t\\t\\t\\t{5}\".format(PSOLSD, SLDO,LDiesel, PSOLSD*LDiesel,SLDO*LDiesel,(PSOLSD-SLDO)*LDiesel ))\n",
    "    print(\"LightSpeed Diesel : {0}\\t\\t\\tLDO           : {1}\\t\\t\\t\\t{2}\\t\\t\\t\\t\\t{3}\\t\\t\\t{4}\\t\\t\\t\\t{5}\".format(PSOKO,SSKO,Kerosine,PSOKO*Kerosine,SSKO*Kerosine,(PSOKO-SSKO)*Kerosine))\n",
    "\n",
    "comparing()"
   ]
  }
 ],
 "metadata": {
  "kernelspec": {
   "display_name": "Python 3",
   "language": "python",
   "name": "python3"
  },
  "language_info": {
   "codemirror_mode": {
    "name": "ipython",
    "version": 3
   },
   "file_extension": ".py",
   "mimetype": "text/x-python",
   "name": "python",
   "nbconvert_exporter": "python",
   "pygments_lexer": "ipython3",
   "version": "3.7.3"
  }
 },
 "nbformat": 4,
 "nbformat_minor": 2
}
